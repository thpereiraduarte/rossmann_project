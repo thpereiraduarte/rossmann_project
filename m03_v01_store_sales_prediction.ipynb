{
 "cells": [
  {
   "cell_type": "markdown",
   "metadata": {},
   "source": [
    "# 0.0 IMPORTS"
   ]
  },
  {
   "cell_type": "code",
   "execution_count": 1,
   "metadata": {
    "ExecuteTime": {
     "end_time": "2021-03-12T20:08:24.517375Z",
     "start_time": "2021-03-12T20:08:00.598331Z"
    }
   },
   "outputs": [],
   "source": [
    "import math\n",
    "import pandas as pd\n",
    "import numpy as np\n",
    "import inflection\n",
    "\n",
    "import seaborn as sns\n",
    "import matplotlib.pyplot as plt\n",
    "\n",
    "from IPython.core.display import display, HTML\n",
    "from IPython.display import Image\n",
    "\n",
    "import datetime\n",
    "from datetime import timedelta"
   ]
  },
  {
   "cell_type": "markdown",
   "metadata": {
    "heading_collapsed": true
   },
   "source": [
    "## 0.1 Helper Functions"
   ]
  },
  {
   "cell_type": "markdown",
   "metadata": {
    "heading_collapsed": true
   },
   "source": [
    "## 0.2 Loading Data"
   ]
  },
  {
   "cell_type": "code",
   "execution_count": 2,
   "metadata": {
    "ExecuteTime": {
     "end_time": "2021-03-12T20:08:27.803357Z",
     "start_time": "2021-03-12T20:08:24.519373Z"
    },
    "hidden": true
   },
   "outputs": [],
   "source": [
    "df_sales_raw = pd.read_csv('train.csv', low_memory=False)\n",
    "df_store_raw = pd.read_csv('store.csv', low_memory=False)\n",
    "\n",
    "#merge\n",
    "df_raw = pd.merge(df_sales_raw, df_store_raw, how='left', on='Store')"
   ]
  },
  {
   "cell_type": "markdown",
   "metadata": {
    "heading_collapsed": true
   },
   "source": [
    "# 1.0. (PASSO 01) DATA DESCRIPTION"
   ]
  },
  {
   "cell_type": "markdown",
   "metadata": {
    "heading_collapsed": true,
    "hidden": true
   },
   "source": [
    "## 0.1 Looking at the columns names"
   ]
  },
  {
   "cell_type": "code",
   "execution_count": 3,
   "metadata": {
    "ExecuteTime": {
     "end_time": "2021-03-12T20:08:27.867146Z",
     "start_time": "2021-03-12T20:08:27.805222Z"
    },
    "hidden": true
   },
   "outputs": [],
   "source": [
    "#Fazendo uma cópia do dataset para a próxima seção,\n",
    "#para que nao seja necessario rodar todo o script novamente, no caso de sobre-escrever a variável por exemplo.\n",
    "\n",
    "df1 = df_raw.copy()"
   ]
  },
  {
   "cell_type": "code",
   "execution_count": 4,
   "metadata": {
    "ExecuteTime": {
     "end_time": "2021-03-12T20:08:28.149860Z",
     "start_time": "2021-03-12T20:08:27.869010Z"
    },
    "hidden": true
   },
   "outputs": [
    {
     "data": {
      "text/plain": [
       "Index(['Store', 'DayOfWeek', 'Date', 'Sales', 'Customers', 'Open', 'Promo',\n",
       "       'StateHoliday', 'SchoolHoliday', 'StoreType', 'Assortment',\n",
       "       'CompetitionDistance', 'CompetitionOpenSinceMonth',\n",
       "       'CompetitionOpenSinceYear', 'Promo2', 'Promo2SinceWeek',\n",
       "       'Promo2SinceYear', 'PromoInterval'],\n",
       "      dtype='object')"
      ]
     },
     "execution_count": 4,
     "metadata": {},
     "output_type": "execute_result"
    }
   ],
   "source": [
    "df1.columns"
   ]
  },
  {
   "cell_type": "markdown",
   "metadata": {
    "heading_collapsed": true,
    "hidden": true
   },
   "source": [
    "## 1.1 Rename Columns"
   ]
  },
  {
   "cell_type": "code",
   "execution_count": 5,
   "metadata": {
    "ExecuteTime": {
     "end_time": "2021-03-12T20:08:28.353329Z",
     "start_time": "2021-03-12T20:08:28.151815Z"
    },
    "hidden": true
   },
   "outputs": [
    {
     "data": {
      "text/plain": [
       "Index(['store', 'day_of_week', 'date', 'sales', 'customers', 'open', 'promo',\n",
       "       'state_holiday', 'school_holiday', 'store_type', 'assortment',\n",
       "       'competition_distance', 'competition_open_since_month',\n",
       "       'competition_open_since_year', 'promo2', 'promo2_since_week',\n",
       "       'promo2_since_year', 'promo_interval'],\n",
       "      dtype='object')"
      ]
     },
     "execution_count": 5,
     "metadata": {},
     "output_type": "execute_result"
    }
   ],
   "source": [
    "cols_old = ['Store', 'DayOfWeek', 'Date', 'Sales', 'Customers', 'Open', 'Promo',\n",
    "            'StateHoliday', 'SchoolHoliday', 'StoreType', 'Assortment',\n",
    "            'CompetitionDistance', 'CompetitionOpenSinceMonth',\n",
    "            'CompetitionOpenSinceYear', 'Promo2', 'Promo2SinceWeek',\n",
    "            'Promo2SinceYear', 'PromoInterval']\n",
    "\n",
    "snakecase = lambda x: inflection.underscore (x)\n",
    "\n",
    "cols_new = list(map (snakecase, cols_old))\n",
    "\n",
    "#rename\n",
    "df1.columns = cols_new\n",
    "df1.columns"
   ]
  },
  {
   "cell_type": "markdown",
   "metadata": {
    "heading_collapsed": true,
    "hidden": true
   },
   "source": [
    "## 1.2 Data Dimension"
   ]
  },
  {
   "cell_type": "code",
   "execution_count": 6,
   "metadata": {
    "ExecuteTime": {
     "end_time": "2021-03-12T20:08:28.461409Z",
     "start_time": "2021-03-12T20:08:28.355324Z"
    },
    "hidden": true
   },
   "outputs": [
    {
     "name": "stdout",
     "output_type": "stream",
     "text": [
      "Number of Rows: 1017209\n",
      "Number of Columns: 18\n"
     ]
    }
   ],
   "source": [
    "print('Number of Rows: {}'.format(df1.shape[0]) )\n",
    "print('Number of Columns: {}'.format(df1.shape[1]) )"
   ]
  },
  {
   "cell_type": "markdown",
   "metadata": {
    "heading_collapsed": true,
    "hidden": true
   },
   "source": [
    "## 1.3 Data Types"
   ]
  },
  {
   "cell_type": "code",
   "execution_count": 7,
   "metadata": {
    "ExecuteTime": {
     "end_time": "2021-03-12T20:08:28.603448Z",
     "start_time": "2021-03-12T20:08:28.463342Z"
    },
    "hidden": true
   },
   "outputs": [
    {
     "data": {
      "text/plain": [
       "store                             int64\n",
       "day_of_week                       int64\n",
       "date                             object\n",
       "sales                             int64\n",
       "customers                         int64\n",
       "open                              int64\n",
       "promo                             int64\n",
       "state_holiday                    object\n",
       "school_holiday                    int64\n",
       "store_type                       object\n",
       "assortment                       object\n",
       "competition_distance            float64\n",
       "competition_open_since_month    float64\n",
       "competition_open_since_year     float64\n",
       "promo2                            int64\n",
       "promo2_since_week               float64\n",
       "promo2_since_year               float64\n",
       "promo_interval                   object\n",
       "dtype: object"
      ]
     },
     "execution_count": 7,
     "metadata": {},
     "output_type": "execute_result"
    }
   ],
   "source": [
    "df1.dtypes\n",
    "\n",
    "#Precisamos alterar a coluna 'date' para formato de DATA (dia/mes/ano)"
   ]
  },
  {
   "cell_type": "code",
   "execution_count": 8,
   "metadata": {
    "ExecuteTime": {
     "end_time": "2021-03-12T20:08:28.963114Z",
     "start_time": "2021-03-12T20:08:28.606444Z"
    },
    "hidden": true
   },
   "outputs": [
    {
     "data": {
      "text/plain": [
       "store                                    int64\n",
       "day_of_week                              int64\n",
       "date                            datetime64[ns]\n",
       "sales                                    int64\n",
       "customers                                int64\n",
       "open                                     int64\n",
       "promo                                    int64\n",
       "state_holiday                           object\n",
       "school_holiday                           int64\n",
       "store_type                              object\n",
       "assortment                              object\n",
       "competition_distance                   float64\n",
       "competition_open_since_month           float64\n",
       "competition_open_since_year            float64\n",
       "promo2                                   int64\n",
       "promo2_since_week                      float64\n",
       "promo2_since_year                      float64\n",
       "promo_interval                          object\n",
       "dtype: object"
      ]
     },
     "execution_count": 8,
     "metadata": {},
     "output_type": "execute_result"
    }
   ],
   "source": [
    "df1['date'] = pd.to_datetime(df1['date'])\n",
    "df1.dtypes\n",
    "\n",
    "#Coluna alterada. Agora aparece no dtypes como 'datetime64'"
   ]
  },
  {
   "cell_type": "markdown",
   "metadata": {
    "heading_collapsed": true,
    "hidden": true
   },
   "source": [
    "## 1.4 Check NA (Missing Values). \n",
    "How to handle them?\n",
    "\n",
    "* Drop NA Columns (not recommended)\n",
    "* Input missing values with mean or median. (when you don't have business information)\n",
    "* Understand the business: Why there are missing values? (Knowing the rules of why there is missing values in the dataset, you may retrieve them)."
   ]
  },
  {
   "cell_type": "code",
   "execution_count": 9,
   "metadata": {
    "ExecuteTime": {
     "end_time": "2021-03-12T20:08:29.180334Z",
     "start_time": "2021-03-12T20:08:28.965108Z"
    },
    "hidden": true
   },
   "outputs": [
    {
     "data": {
      "text/plain": [
       "store                                0\n",
       "day_of_week                          0\n",
       "date                                 0\n",
       "sales                                0\n",
       "customers                            0\n",
       "open                                 0\n",
       "promo                                0\n",
       "state_holiday                        0\n",
       "school_holiday                       0\n",
       "store_type                           0\n",
       "assortment                           0\n",
       "competition_distance              2642\n",
       "competition_open_since_month    323348\n",
       "competition_open_since_year     323348\n",
       "promo2                               0\n",
       "promo2_since_week               508031\n",
       "promo2_since_year               508031\n",
       "promo_interval                  508031\n",
       "dtype: int64"
      ]
     },
     "execution_count": 9,
     "metadata": {},
     "output_type": "execute_result"
    }
   ],
   "source": [
    "df1.isna().sum()"
   ]
  },
  {
   "cell_type": "markdown",
   "metadata": {
    "heading_collapsed": true,
    "hidden": true
   },
   "source": [
    "## 1.5 Fillout NA"
   ]
  },
  {
   "cell_type": "code",
   "execution_count": 10,
   "metadata": {
    "ExecuteTime": {
     "end_time": "2021-03-12T20:08:29.195426Z",
     "start_time": "2021-03-12T20:08:29.183330Z"
    },
    "hidden": true
   },
   "outputs": [],
   "source": [
    "#COLUMNS WITH MISSING VALUES\n",
    "\n",
    "#competition_distance            \n",
    "#competition_open_since_month    \n",
    "#competition_open_since_year     \n",
    "#promo2_since_week               \n",
    "#promo2_since_year               \n",
    "#promo_interval                  "
   ]
  },
  {
   "cell_type": "markdown",
   "metadata": {
    "hidden": true
   },
   "source": []
  },
  {
   "cell_type": "code",
   "execution_count": 11,
   "metadata": {
    "ExecuteTime": {
     "end_time": "2021-03-12T20:08:29.677884Z",
     "start_time": "2021-03-12T20:08:29.197293Z"
    },
    "hidden": true
   },
   "outputs": [
    {
     "data": {
      "text/plain": [
       "75860.0"
      ]
     },
     "execution_count": 11,
     "metadata": {},
     "output_type": "execute_result"
    }
   ],
   "source": [
    "#What's the maximum value in this column?\n",
    "df1['competition_distance'].max()"
   ]
  },
  {
   "cell_type": "code",
   "execution_count": 12,
   "metadata": {
    "ExecuteTime": {
     "end_time": "2021-03-12T20:09:44.907461Z",
     "start_time": "2021-03-12T20:08:29.679837Z"
    },
    "hidden": true
   },
   "outputs": [],
   "source": [
    "#'competition_distance'\n",
    "# - Assumption: If there's no value, it might mean that this store doesn't have any near competitor \n",
    "# or the nearest one is too far to be a potential competitor.\n",
    "\n",
    "# *We are telling to PYTHON to apply a 200.000m value if the field is NaN, 'cuz there's no competition to such sotre:*\n",
    "df1['competition_distance'] = df1['competition_distance'].apply(lambda x: 200000.0 if math.isnan(x) else x)\n",
    "\n",
    "# competition_open_since_month (since when the nearest competitor is open?)\n",
    "# - Assumption: If there's value in 'competition_distance', \n",
    "# we should have the information of since when we have this competitor)\n",
    "\n",
    "# *So we are going to retrive this information from column 'date', but extracting year data only:\n",
    "df1['competition_open_since_month'] = df1.apply(lambda x: x['date'].month if\n",
    "                                                math.isnan(x['competition_open_since_month']) \n",
    "                                                else x['competition_open_since_month'], axis=1)\n",
    "# competition_open_since_year\n",
    "# *Doing it again but to retrieve YEAR informatin now:*\n",
    "df1['competition_open_since_year'] = df1.apply(lambda x: x['date'].year if\n",
    "                                                math.isnan(x['competition_open_since_year']) \n",
    "                                                else x['competition_open_since_year'], axis=1)\n",
    "\n",
    "# promo2_since_week\n",
    "# Let's repeat the operation with this one too, since we need to give some information to the algorithm further:\n",
    "df1['promo2_since_week'] = df1.apply(lambda x: x['date'].week if\n",
    "                                                math.isnan(x['promo2_since_week']) \n",
    "                                                else x['promo2_since_week'], axis=1)\n",
    "\n",
    "# promo2_since_year\n",
    "df1['promo2_since_year'] = df1.apply(lambda x: x['date'].year if\n",
    "                                                math.isnan(x['promo2_since_year']) \n",
    "                                                else x['promo2_since_year'], axis=1)\n",
    "\n",
    "# promo_interval -  describes the consecutive intervals Promo2 is started, \n",
    "# naming the months the promotion is started anew. \n",
    "# E.g. \"Feb,May,Aug,Nov\" means each round starts in February, May, August, November of any given year for that store.\n",
    "\n",
    "#Criando um dicionário para substituir os números pelos nomes do meses:\n",
    "month_map = {1: 'Jan', 2: 'Feb', 3: 'Mar', 4: 'Apr', 5: 'May', 6: 'Jun', 7: 'Jul', 8: 'Aug', 9: 'Sep', 10: 'Oct', 11: 'Nov', 12: 'Dec'}\n",
    "\n",
    "df1['promo_interval'].fillna(0, inplace=True)\n",
    "\n",
    "#Criando a nova coluna\n",
    "df1['month_map'] = df1['date'].dt.month.map(month_map)\n",
    "\n",
    "#Criando uma nova coluna, a partir de uma condição, para dizer se a loja erstá ou não participando da promoção:\n",
    "\n",
    "df1['is_promo'] = df1[['promo_interval', 'month_map']].apply(\n",
    "    lambda x: 0 if x['promo_interval']==0 else 1 if x['month_map'] in x['promo_interval'].split(',') else 0, axis=1)"
   ]
  },
  {
   "cell_type": "code",
   "execution_count": 13,
   "metadata": {
    "ExecuteTime": {
     "end_time": "2021-03-12T20:09:45.741670Z",
     "start_time": "2021-03-12T20:09:44.909419Z"
    },
    "hidden": true
   },
   "outputs": [
    {
     "data": {
      "text/html": [
       "<div>\n",
       "<style scoped>\n",
       "    .dataframe tbody tr th:only-of-type {\n",
       "        vertical-align: middle;\n",
       "    }\n",
       "\n",
       "    .dataframe tbody tr th {\n",
       "        vertical-align: top;\n",
       "    }\n",
       "\n",
       "    .dataframe thead th {\n",
       "        text-align: right;\n",
       "    }\n",
       "</style>\n",
       "<table border=\"1\" class=\"dataframe\">\n",
       "  <thead>\n",
       "    <tr style=\"text-align: right;\">\n",
       "      <th></th>\n",
       "      <th>store</th>\n",
       "      <th>day_of_week</th>\n",
       "      <th>date</th>\n",
       "      <th>sales</th>\n",
       "      <th>customers</th>\n",
       "      <th>open</th>\n",
       "      <th>promo</th>\n",
       "      <th>state_holiday</th>\n",
       "      <th>school_holiday</th>\n",
       "      <th>store_type</th>\n",
       "      <th>assortment</th>\n",
       "      <th>competition_distance</th>\n",
       "      <th>competition_open_since_month</th>\n",
       "      <th>competition_open_since_year</th>\n",
       "      <th>promo2</th>\n",
       "      <th>promo2_since_week</th>\n",
       "      <th>promo2_since_year</th>\n",
       "      <th>promo_interval</th>\n",
       "      <th>month_map</th>\n",
       "      <th>is_promo</th>\n",
       "    </tr>\n",
       "  </thead>\n",
       "  <tbody>\n",
       "    <tr>\n",
       "      <th>461226</th>\n",
       "      <td>402</td>\n",
       "      <td>3</td>\n",
       "      <td>2014-05-14</td>\n",
       "      <td>3765</td>\n",
       "      <td>463</td>\n",
       "      <td>1</td>\n",
       "      <td>0</td>\n",
       "      <td>0</td>\n",
       "      <td>0</td>\n",
       "      <td>c</td>\n",
       "      <td>c</td>\n",
       "      <td>5830.0</td>\n",
       "      <td>9.0</td>\n",
       "      <td>2011.0</td>\n",
       "      <td>1</td>\n",
       "      <td>13.0</td>\n",
       "      <td>2010.0</td>\n",
       "      <td>Jan,Apr,Jul,Oct</td>\n",
       "      <td>May</td>\n",
       "      <td>0</td>\n",
       "    </tr>\n",
       "    <tr>\n",
       "      <th>78355</th>\n",
       "      <td>306</td>\n",
       "      <td>5</td>\n",
       "      <td>2015-05-22</td>\n",
       "      <td>5050</td>\n",
       "      <td>550</td>\n",
       "      <td>1</td>\n",
       "      <td>1</td>\n",
       "      <td>0</td>\n",
       "      <td>0</td>\n",
       "      <td>a</td>\n",
       "      <td>a</td>\n",
       "      <td>5100.0</td>\n",
       "      <td>4.0</td>\n",
       "      <td>2007.0</td>\n",
       "      <td>1</td>\n",
       "      <td>40.0</td>\n",
       "      <td>2014.0</td>\n",
       "      <td>Jan,Apr,Jul,Oct</td>\n",
       "      <td>May</td>\n",
       "      <td>0</td>\n",
       "    </tr>\n",
       "    <tr>\n",
       "      <th>48530</th>\n",
       "      <td>586</td>\n",
       "      <td>4</td>\n",
       "      <td>2015-06-18</td>\n",
       "      <td>15931</td>\n",
       "      <td>2244</td>\n",
       "      <td>1</td>\n",
       "      <td>1</td>\n",
       "      <td>0</td>\n",
       "      <td>0</td>\n",
       "      <td>a</td>\n",
       "      <td>c</td>\n",
       "      <td>250.0</td>\n",
       "      <td>10.0</td>\n",
       "      <td>2008.0</td>\n",
       "      <td>0</td>\n",
       "      <td>25.0</td>\n",
       "      <td>2015.0</td>\n",
       "      <td>0</td>\n",
       "      <td>Jun</td>\n",
       "      <td>0</td>\n",
       "    </tr>\n",
       "    <tr>\n",
       "      <th>493494</th>\n",
       "      <td>335</td>\n",
       "      <td>2</td>\n",
       "      <td>2014-04-15</td>\n",
       "      <td>20965</td>\n",
       "      <td>3202</td>\n",
       "      <td>1</td>\n",
       "      <td>1</td>\n",
       "      <td>0</td>\n",
       "      <td>1</td>\n",
       "      <td>b</td>\n",
       "      <td>a</td>\n",
       "      <td>90.0</td>\n",
       "      <td>4.0</td>\n",
       "      <td>2014.0</td>\n",
       "      <td>1</td>\n",
       "      <td>31.0</td>\n",
       "      <td>2013.0</td>\n",
       "      <td>Jan,Apr,Jul,Oct</td>\n",
       "      <td>Apr</td>\n",
       "      <td>1</td>\n",
       "    </tr>\n",
       "    <tr>\n",
       "      <th>3894</th>\n",
       "      <td>550</td>\n",
       "      <td>2</td>\n",
       "      <td>2015-07-28</td>\n",
       "      <td>5411</td>\n",
       "      <td>442</td>\n",
       "      <td>1</td>\n",
       "      <td>1</td>\n",
       "      <td>0</td>\n",
       "      <td>1</td>\n",
       "      <td>d</td>\n",
       "      <td>c</td>\n",
       "      <td>50.0</td>\n",
       "      <td>6.0</td>\n",
       "      <td>2015.0</td>\n",
       "      <td>0</td>\n",
       "      <td>31.0</td>\n",
       "      <td>2015.0</td>\n",
       "      <td>0</td>\n",
       "      <td>Jul</td>\n",
       "      <td>0</td>\n",
       "    </tr>\n",
       "  </tbody>\n",
       "</table>\n",
       "</div>"
      ],
      "text/plain": [
       "        store  day_of_week       date  sales  customers  open  promo  \\\n",
       "461226    402            3 2014-05-14   3765        463     1      0   \n",
       "78355     306            5 2015-05-22   5050        550     1      1   \n",
       "48530     586            4 2015-06-18  15931       2244     1      1   \n",
       "493494    335            2 2014-04-15  20965       3202     1      1   \n",
       "3894      550            2 2015-07-28   5411        442     1      1   \n",
       "\n",
       "       state_holiday  school_holiday store_type assortment  \\\n",
       "461226             0               0          c          c   \n",
       "78355              0               0          a          a   \n",
       "48530              0               0          a          c   \n",
       "493494             0               1          b          a   \n",
       "3894               0               1          d          c   \n",
       "\n",
       "        competition_distance  competition_open_since_month  \\\n",
       "461226                5830.0                           9.0   \n",
       "78355                 5100.0                           4.0   \n",
       "48530                  250.0                          10.0   \n",
       "493494                  90.0                           4.0   \n",
       "3894                    50.0                           6.0   \n",
       "\n",
       "        competition_open_since_year  promo2  promo2_since_week  \\\n",
       "461226                       2011.0       1               13.0   \n",
       "78355                        2007.0       1               40.0   \n",
       "48530                        2008.0       0               25.0   \n",
       "493494                       2014.0       1               31.0   \n",
       "3894                         2015.0       0               31.0   \n",
       "\n",
       "        promo2_since_year   promo_interval month_map  is_promo  \n",
       "461226             2010.0  Jan,Apr,Jul,Oct       May         0  \n",
       "78355              2014.0  Jan,Apr,Jul,Oct       May         0  \n",
       "48530              2015.0                0       Jun         0  \n",
       "493494             2013.0  Jan,Apr,Jul,Oct       Apr         1  \n",
       "3894               2015.0                0       Jul         0  "
      ]
     },
     "execution_count": 13,
     "metadata": {},
     "output_type": "execute_result"
    }
   ],
   "source": [
    "df1.sample(5)"
   ]
  },
  {
   "cell_type": "code",
   "execution_count": 14,
   "metadata": {
    "ExecuteTime": {
     "end_time": "2021-03-12T20:09:45.976837Z",
     "start_time": "2021-03-12T20:09:45.744612Z"
    },
    "hidden": true
   },
   "outputs": [
    {
     "data": {
      "text/plain": [
       "store                           0\n",
       "day_of_week                     0\n",
       "date                            0\n",
       "sales                           0\n",
       "customers                       0\n",
       "open                            0\n",
       "promo                           0\n",
       "state_holiday                   0\n",
       "school_holiday                  0\n",
       "store_type                      0\n",
       "assortment                      0\n",
       "competition_distance            0\n",
       "competition_open_since_month    0\n",
       "competition_open_since_year     0\n",
       "promo2                          0\n",
       "promo2_since_week               0\n",
       "promo2_since_year               0\n",
       "promo_interval                  0\n",
       "month_map                       0\n",
       "is_promo                        0\n",
       "dtype: int64"
      ]
     },
     "execution_count": 14,
     "metadata": {},
     "output_type": "execute_result"
    }
   ],
   "source": [
    "df1.isna().sum()"
   ]
  },
  {
   "cell_type": "markdown",
   "metadata": {
    "ExecuteTime": {
     "end_time": "2021-03-11T14:21:02.446612Z",
     "start_time": "2021-03-11T14:21:02.426291Z"
    },
    "heading_collapsed": true,
    "hidden": true
   },
   "source": [
    "## 1.6 Check DTypes"
   ]
  },
  {
   "cell_type": "code",
   "execution_count": 15,
   "metadata": {
    "ExecuteTime": {
     "end_time": "2021-03-12T20:09:45.992795Z",
     "start_time": "2021-03-12T20:09:45.978833Z"
    },
    "hidden": true
   },
   "outputs": [
    {
     "data": {
      "text/plain": [
       "store                                    int64\n",
       "day_of_week                              int64\n",
       "date                            datetime64[ns]\n",
       "sales                                    int64\n",
       "customers                                int64\n",
       "open                                     int64\n",
       "promo                                    int64\n",
       "state_holiday                           object\n",
       "school_holiday                           int64\n",
       "store_type                              object\n",
       "assortment                              object\n",
       "competition_distance                   float64\n",
       "competition_open_since_month           float64\n",
       "competition_open_since_year            float64\n",
       "promo2                                   int64\n",
       "promo2_since_week                      float64\n",
       "promo2_since_year                      float64\n",
       "promo_interval                          object\n",
       "month_map                               object\n",
       "is_promo                                 int64\n",
       "dtype: object"
      ]
     },
     "execution_count": 15,
     "metadata": {},
     "output_type": "execute_result"
    }
   ],
   "source": [
    "df1.dtypes"
   ]
  },
  {
   "cell_type": "code",
   "execution_count": 16,
   "metadata": {
    "ExecuteTime": {
     "end_time": "2021-03-12T20:09:46.148533Z",
     "start_time": "2021-03-12T20:09:45.994791Z"
    },
    "hidden": true
   },
   "outputs": [],
   "source": [
    "#Changing dtypes - Some columns need to be filled with 'int' dtype instead 'float64':\n",
    "\n",
    "df1['competition_open_since_month'] = df1['competition_open_since_month'].astype(int)\n",
    "df1['competition_open_since_year'] = df1['competition_open_since_year'].astype(int)\n",
    "df1['promo2_since_week'] = df1['promo2_since_week'].astype(int)\n",
    "df1['promo2_since_year'] = df1['promo2_since_year'].astype(int)"
   ]
  },
  {
   "cell_type": "code",
   "execution_count": 17,
   "metadata": {
    "ExecuteTime": {
     "end_time": "2021-03-12T20:09:46.194659Z",
     "start_time": "2021-03-12T20:09:46.151526Z"
    },
    "hidden": true
   },
   "outputs": [
    {
     "data": {
      "text/plain": [
       "store                                    int64\n",
       "day_of_week                              int64\n",
       "date                            datetime64[ns]\n",
       "sales                                    int64\n",
       "customers                                int64\n",
       "open                                     int64\n",
       "promo                                    int64\n",
       "state_holiday                           object\n",
       "school_holiday                           int64\n",
       "store_type                              object\n",
       "assortment                              object\n",
       "competition_distance                   float64\n",
       "competition_open_since_month             int32\n",
       "competition_open_since_year              int32\n",
       "promo2                                   int64\n",
       "promo2_since_week                        int32\n",
       "promo2_since_year                        int32\n",
       "promo_interval                          object\n",
       "month_map                               object\n",
       "is_promo                                 int64\n",
       "dtype: object"
      ]
     },
     "execution_count": 17,
     "metadata": {},
     "output_type": "execute_result"
    }
   ],
   "source": [
    "df1.dtypes"
   ]
  },
  {
   "cell_type": "markdown",
   "metadata": {
    "heading_collapsed": true,
    "hidden": true
   },
   "source": [
    "## 1.7 Descriptive Statistics"
   ]
  },
  {
   "cell_type": "code",
   "execution_count": 18,
   "metadata": {
    "ExecuteTime": {
     "end_time": "2021-03-12T20:09:46.727909Z",
     "start_time": "2021-03-12T20:09:46.196655Z"
    },
    "hidden": true
   },
   "outputs": [],
   "source": [
    "#Numerical variables only\n",
    "num_attributes = df1.select_dtypes(include=['int64','int32', 'float64'])\n",
    "\n",
    "#Categorical variables only\n",
    "cat_attributes = df1.select_dtypes(exclude=['int64', 'int32', 'float64', 'datetime64[ns]'])"
   ]
  },
  {
   "cell_type": "code",
   "execution_count": 19,
   "metadata": {
    "ExecuteTime": {
     "end_time": "2021-03-12T20:09:46.775900Z",
     "start_time": "2021-03-12T20:09:46.728906Z"
    },
    "hidden": true
   },
   "outputs": [
    {
     "data": {
      "text/html": [
       "<div>\n",
       "<style scoped>\n",
       "    .dataframe tbody tr th:only-of-type {\n",
       "        vertical-align: middle;\n",
       "    }\n",
       "\n",
       "    .dataframe tbody tr th {\n",
       "        vertical-align: top;\n",
       "    }\n",
       "\n",
       "    .dataframe thead th {\n",
       "        text-align: right;\n",
       "    }\n",
       "</style>\n",
       "<table border=\"1\" class=\"dataframe\">\n",
       "  <thead>\n",
       "    <tr style=\"text-align: right;\">\n",
       "      <th></th>\n",
       "      <th>store</th>\n",
       "      <th>day_of_week</th>\n",
       "      <th>sales</th>\n",
       "      <th>customers</th>\n",
       "      <th>open</th>\n",
       "      <th>promo</th>\n",
       "      <th>school_holiday</th>\n",
       "      <th>competition_distance</th>\n",
       "      <th>competition_open_since_month</th>\n",
       "      <th>competition_open_since_year</th>\n",
       "      <th>promo2</th>\n",
       "      <th>promo2_since_week</th>\n",
       "      <th>promo2_since_year</th>\n",
       "      <th>is_promo</th>\n",
       "    </tr>\n",
       "  </thead>\n",
       "  <tbody>\n",
       "    <tr>\n",
       "      <th>367629</th>\n",
       "      <td>416</td>\n",
       "      <td>3</td>\n",
       "      <td>8596</td>\n",
       "      <td>1214</td>\n",
       "      <td>1</td>\n",
       "      <td>0</td>\n",
       "      <td>1</td>\n",
       "      <td>4650.0</td>\n",
       "      <td>6</td>\n",
       "      <td>2014</td>\n",
       "      <td>0</td>\n",
       "      <td>33</td>\n",
       "      <td>2014</td>\n",
       "      <td>0</td>\n",
       "    </tr>\n",
       "    <tr>\n",
       "      <th>691964</th>\n",
       "      <td>335</td>\n",
       "      <td>6</td>\n",
       "      <td>7989</td>\n",
       "      <td>1616</td>\n",
       "      <td>1</td>\n",
       "      <td>0</td>\n",
       "      <td>0</td>\n",
       "      <td>90.0</td>\n",
       "      <td>10</td>\n",
       "      <td>2013</td>\n",
       "      <td>1</td>\n",
       "      <td>31</td>\n",
       "      <td>2013</td>\n",
       "      <td>1</td>\n",
       "    </tr>\n",
       "    <tr>\n",
       "      <th>468535</th>\n",
       "      <td>1021</td>\n",
       "      <td>4</td>\n",
       "      <td>8789</td>\n",
       "      <td>1048</td>\n",
       "      <td>1</td>\n",
       "      <td>1</td>\n",
       "      <td>0</td>\n",
       "      <td>1080.0</td>\n",
       "      <td>5</td>\n",
       "      <td>2011</td>\n",
       "      <td>0</td>\n",
       "      <td>19</td>\n",
       "      <td>2014</td>\n",
       "      <td>0</td>\n",
       "    </tr>\n",
       "  </tbody>\n",
       "</table>\n",
       "</div>"
      ],
      "text/plain": [
       "        store  day_of_week  sales  customers  open  promo  school_holiday  \\\n",
       "367629    416            3   8596       1214     1      0               1   \n",
       "691964    335            6   7989       1616     1      0               0   \n",
       "468535   1021            4   8789       1048     1      1               0   \n",
       "\n",
       "        competition_distance  competition_open_since_month  \\\n",
       "367629                4650.0                             6   \n",
       "691964                  90.0                            10   \n",
       "468535                1080.0                             5   \n",
       "\n",
       "        competition_open_since_year  promo2  promo2_since_week  \\\n",
       "367629                         2014       0                 33   \n",
       "691964                         2013       1                 31   \n",
       "468535                         2011       0                 19   \n",
       "\n",
       "        promo2_since_year  is_promo  \n",
       "367629               2014         0  \n",
       "691964               2013         1  \n",
       "468535               2014         0  "
      ]
     },
     "execution_count": 19,
     "metadata": {},
     "output_type": "execute_result"
    }
   ],
   "source": [
    "num_attributes.sample(3)"
   ]
  },
  {
   "cell_type": "code",
   "execution_count": 20,
   "metadata": {
    "ExecuteTime": {
     "end_time": "2021-03-12T20:09:46.900891Z",
     "start_time": "2021-03-12T20:09:46.776897Z"
    },
    "hidden": true,
    "scrolled": true
   },
   "outputs": [
    {
     "data": {
      "text/html": [
       "<div>\n",
       "<style scoped>\n",
       "    .dataframe tbody tr th:only-of-type {\n",
       "        vertical-align: middle;\n",
       "    }\n",
       "\n",
       "    .dataframe tbody tr th {\n",
       "        vertical-align: top;\n",
       "    }\n",
       "\n",
       "    .dataframe thead th {\n",
       "        text-align: right;\n",
       "    }\n",
       "</style>\n",
       "<table border=\"1\" class=\"dataframe\">\n",
       "  <thead>\n",
       "    <tr style=\"text-align: right;\">\n",
       "      <th></th>\n",
       "      <th>state_holiday</th>\n",
       "      <th>store_type</th>\n",
       "      <th>assortment</th>\n",
       "      <th>promo_interval</th>\n",
       "      <th>month_map</th>\n",
       "    </tr>\n",
       "  </thead>\n",
       "  <tbody>\n",
       "    <tr>\n",
       "      <th>490253</th>\n",
       "      <td>b</td>\n",
       "      <td>a</td>\n",
       "      <td>a</td>\n",
       "      <td>0</td>\n",
       "      <td>Apr</td>\n",
       "    </tr>\n",
       "    <tr>\n",
       "      <th>718666</th>\n",
       "      <td>0</td>\n",
       "      <td>d</td>\n",
       "      <td>c</td>\n",
       "      <td>Feb,May,Aug,Nov</td>\n",
       "      <td>Sep</td>\n",
       "    </tr>\n",
       "    <tr>\n",
       "      <th>384704</th>\n",
       "      <td>0</td>\n",
       "      <td>a</td>\n",
       "      <td>a</td>\n",
       "      <td>0</td>\n",
       "      <td>Jul</td>\n",
       "    </tr>\n",
       "  </tbody>\n",
       "</table>\n",
       "</div>"
      ],
      "text/plain": [
       "       state_holiday store_type assortment   promo_interval month_map\n",
       "490253             b          a          a                0       Apr\n",
       "718666             0          d          c  Feb,May,Aug,Nov       Sep\n",
       "384704             0          a          a                0       Jul"
      ]
     },
     "execution_count": 20,
     "metadata": {},
     "output_type": "execute_result"
    }
   ],
   "source": [
    "cat_attributes.sample(3)"
   ]
  },
  {
   "cell_type": "markdown",
   "metadata": {
    "heading_collapsed": true,
    "hidden": true
   },
   "source": [
    "## 1.7.1 Numerical Atrtributes"
   ]
  },
  {
   "cell_type": "code",
   "execution_count": 21,
   "metadata": {
    "ExecuteTime": {
     "end_time": "2021-03-12T20:09:50.143175Z",
     "start_time": "2021-03-12T20:09:46.902886Z"
    },
    "hidden": true
   },
   "outputs": [
    {
     "data": {
      "text/html": [
       "<div>\n",
       "<style scoped>\n",
       "    .dataframe tbody tr th:only-of-type {\n",
       "        vertical-align: middle;\n",
       "    }\n",
       "\n",
       "    .dataframe tbody tr th {\n",
       "        vertical-align: top;\n",
       "    }\n",
       "\n",
       "    .dataframe thead th {\n",
       "        text-align: right;\n",
       "    }\n",
       "</style>\n",
       "<table border=\"1\" class=\"dataframe\">\n",
       "  <thead>\n",
       "    <tr style=\"text-align: right;\">\n",
       "      <th></th>\n",
       "      <th>attributes</th>\n",
       "      <th>min</th>\n",
       "      <th>max</th>\n",
       "      <th>range</th>\n",
       "      <th>mean</th>\n",
       "      <th>median</th>\n",
       "      <th>std</th>\n",
       "      <th>skew</th>\n",
       "      <th>kurtosis</th>\n",
       "    </tr>\n",
       "  </thead>\n",
       "  <tbody>\n",
       "    <tr>\n",
       "      <th>0</th>\n",
       "      <td>store</td>\n",
       "      <td>1.0</td>\n",
       "      <td>1115.0</td>\n",
       "      <td>1114.0</td>\n",
       "      <td>558.429727</td>\n",
       "      <td>558.0</td>\n",
       "      <td>321.908493</td>\n",
       "      <td>-0.000955</td>\n",
       "      <td>-1.200524</td>\n",
       "    </tr>\n",
       "    <tr>\n",
       "      <th>1</th>\n",
       "      <td>day_of_week</td>\n",
       "      <td>1.0</td>\n",
       "      <td>7.0</td>\n",
       "      <td>6.0</td>\n",
       "      <td>3.998341</td>\n",
       "      <td>4.0</td>\n",
       "      <td>1.997390</td>\n",
       "      <td>0.001593</td>\n",
       "      <td>-1.246873</td>\n",
       "    </tr>\n",
       "    <tr>\n",
       "      <th>2</th>\n",
       "      <td>sales</td>\n",
       "      <td>0.0</td>\n",
       "      <td>41551.0</td>\n",
       "      <td>41551.0</td>\n",
       "      <td>5773.818972</td>\n",
       "      <td>5744.0</td>\n",
       "      <td>3849.924283</td>\n",
       "      <td>0.641460</td>\n",
       "      <td>1.778375</td>\n",
       "    </tr>\n",
       "    <tr>\n",
       "      <th>3</th>\n",
       "      <td>customers</td>\n",
       "      <td>0.0</td>\n",
       "      <td>7388.0</td>\n",
       "      <td>7388.0</td>\n",
       "      <td>633.145946</td>\n",
       "      <td>609.0</td>\n",
       "      <td>464.411506</td>\n",
       "      <td>1.598650</td>\n",
       "      <td>7.091773</td>\n",
       "    </tr>\n",
       "    <tr>\n",
       "      <th>4</th>\n",
       "      <td>open</td>\n",
       "      <td>0.0</td>\n",
       "      <td>1.0</td>\n",
       "      <td>1.0</td>\n",
       "      <td>0.830107</td>\n",
       "      <td>1.0</td>\n",
       "      <td>0.375539</td>\n",
       "      <td>-1.758045</td>\n",
       "      <td>1.090723</td>\n",
       "    </tr>\n",
       "    <tr>\n",
       "      <th>5</th>\n",
       "      <td>promo</td>\n",
       "      <td>0.0</td>\n",
       "      <td>1.0</td>\n",
       "      <td>1.0</td>\n",
       "      <td>0.381515</td>\n",
       "      <td>0.0</td>\n",
       "      <td>0.485758</td>\n",
       "      <td>0.487838</td>\n",
       "      <td>-1.762018</td>\n",
       "    </tr>\n",
       "    <tr>\n",
       "      <th>6</th>\n",
       "      <td>school_holiday</td>\n",
       "      <td>0.0</td>\n",
       "      <td>1.0</td>\n",
       "      <td>1.0</td>\n",
       "      <td>0.178647</td>\n",
       "      <td>0.0</td>\n",
       "      <td>0.383056</td>\n",
       "      <td>1.677842</td>\n",
       "      <td>0.815154</td>\n",
       "    </tr>\n",
       "    <tr>\n",
       "      <th>7</th>\n",
       "      <td>competition_distance</td>\n",
       "      <td>20.0</td>\n",
       "      <td>200000.0</td>\n",
       "      <td>199980.0</td>\n",
       "      <td>5935.442677</td>\n",
       "      <td>2330.0</td>\n",
       "      <td>12547.646829</td>\n",
       "      <td>10.242344</td>\n",
       "      <td>147.789712</td>\n",
       "    </tr>\n",
       "    <tr>\n",
       "      <th>8</th>\n",
       "      <td>competition_open_since_month</td>\n",
       "      <td>1.0</td>\n",
       "      <td>12.0</td>\n",
       "      <td>11.0</td>\n",
       "      <td>6.786849</td>\n",
       "      <td>7.0</td>\n",
       "      <td>3.311085</td>\n",
       "      <td>-0.042076</td>\n",
       "      <td>-1.232607</td>\n",
       "    </tr>\n",
       "    <tr>\n",
       "      <th>9</th>\n",
       "      <td>competition_open_since_year</td>\n",
       "      <td>1900.0</td>\n",
       "      <td>2015.0</td>\n",
       "      <td>115.0</td>\n",
       "      <td>2010.324840</td>\n",
       "      <td>2012.0</td>\n",
       "      <td>5.515591</td>\n",
       "      <td>-7.235657</td>\n",
       "      <td>124.071304</td>\n",
       "    </tr>\n",
       "    <tr>\n",
       "      <th>10</th>\n",
       "      <td>promo2</td>\n",
       "      <td>0.0</td>\n",
       "      <td>1.0</td>\n",
       "      <td>1.0</td>\n",
       "      <td>0.500564</td>\n",
       "      <td>1.0</td>\n",
       "      <td>0.500000</td>\n",
       "      <td>-0.002255</td>\n",
       "      <td>-1.999999</td>\n",
       "    </tr>\n",
       "    <tr>\n",
       "      <th>11</th>\n",
       "      <td>promo2_since_week</td>\n",
       "      <td>1.0</td>\n",
       "      <td>52.0</td>\n",
       "      <td>51.0</td>\n",
       "      <td>23.619033</td>\n",
       "      <td>22.0</td>\n",
       "      <td>14.310057</td>\n",
       "      <td>0.178723</td>\n",
       "      <td>-1.184046</td>\n",
       "    </tr>\n",
       "    <tr>\n",
       "      <th>12</th>\n",
       "      <td>promo2_since_year</td>\n",
       "      <td>2009.0</td>\n",
       "      <td>2015.0</td>\n",
       "      <td>6.0</td>\n",
       "      <td>2012.793297</td>\n",
       "      <td>2013.0</td>\n",
       "      <td>1.662657</td>\n",
       "      <td>-0.784436</td>\n",
       "      <td>-0.210075</td>\n",
       "    </tr>\n",
       "    <tr>\n",
       "      <th>13</th>\n",
       "      <td>is_promo</td>\n",
       "      <td>0.0</td>\n",
       "      <td>1.0</td>\n",
       "      <td>1.0</td>\n",
       "      <td>0.165966</td>\n",
       "      <td>0.0</td>\n",
       "      <td>0.372050</td>\n",
       "      <td>1.795644</td>\n",
       "      <td>1.224338</td>\n",
       "    </tr>\n",
       "  </tbody>\n",
       "</table>\n",
       "</div>"
      ],
      "text/plain": [
       "                      attributes     min       max     range         mean  \\\n",
       "0                          store     1.0    1115.0    1114.0   558.429727   \n",
       "1                    day_of_week     1.0       7.0       6.0     3.998341   \n",
       "2                          sales     0.0   41551.0   41551.0  5773.818972   \n",
       "3                      customers     0.0    7388.0    7388.0   633.145946   \n",
       "4                           open     0.0       1.0       1.0     0.830107   \n",
       "5                          promo     0.0       1.0       1.0     0.381515   \n",
       "6                 school_holiday     0.0       1.0       1.0     0.178647   \n",
       "7           competition_distance    20.0  200000.0  199980.0  5935.442677   \n",
       "8   competition_open_since_month     1.0      12.0      11.0     6.786849   \n",
       "9    competition_open_since_year  1900.0    2015.0     115.0  2010.324840   \n",
       "10                        promo2     0.0       1.0       1.0     0.500564   \n",
       "11             promo2_since_week     1.0      52.0      51.0    23.619033   \n",
       "12             promo2_since_year  2009.0    2015.0       6.0  2012.793297   \n",
       "13                      is_promo     0.0       1.0       1.0     0.165966   \n",
       "\n",
       "    median           std       skew    kurtosis  \n",
       "0    558.0    321.908493  -0.000955   -1.200524  \n",
       "1      4.0      1.997390   0.001593   -1.246873  \n",
       "2   5744.0   3849.924283   0.641460    1.778375  \n",
       "3    609.0    464.411506   1.598650    7.091773  \n",
       "4      1.0      0.375539  -1.758045    1.090723  \n",
       "5      0.0      0.485758   0.487838   -1.762018  \n",
       "6      0.0      0.383056   1.677842    0.815154  \n",
       "7   2330.0  12547.646829  10.242344  147.789712  \n",
       "8      7.0      3.311085  -0.042076   -1.232607  \n",
       "9   2012.0      5.515591  -7.235657  124.071304  \n",
       "10     1.0      0.500000  -0.002255   -1.999999  \n",
       "11    22.0     14.310057   0.178723   -1.184046  \n",
       "12  2013.0      1.662657  -0.784436   -0.210075  \n",
       "13     0.0      0.372050   1.795644    1.224338  "
      ]
     },
     "execution_count": 21,
     "metadata": {},
     "output_type": "execute_result"
    }
   ],
   "source": [
    "#Central tendency - mean, median\n",
    "ct1 = pd.DataFrame(num_attributes.apply(np.mean)).T\n",
    "ct2 = pd.DataFrame(num_attributes.apply(np.median)).T\n",
    "\n",
    "#Dispertion - standart deviation(std), min, max, range, skew (data asymmetry), kurtosis (high/low-tendency of the data, outliers identifier)\n",
    "d1 = pd.DataFrame(num_attributes.apply(np.std)).T\n",
    "d2 = pd.DataFrame(num_attributes.apply(min)).T\n",
    "d3 = pd.DataFrame(num_attributes.apply(max)).T\n",
    "d4 = pd.DataFrame(num_attributes.apply(lambda x: x.max() - x.min() )).T\n",
    "d5 = pd.DataFrame(num_attributes.apply(lambda x: x.skew() )).T\n",
    "d6 = pd.DataFrame(num_attributes.apply(lambda x: x.kurtosis() )).T\n",
    "\n",
    "#Concatenate\n",
    "m = pd.concat([d2, d3, d4, ct1, ct2, d1, d5, d6]).T.reset_index()\n",
    "m.columns = ['attributes', 'min', 'max', 'range', 'mean', 'median', 'std', 'skew', 'kurtosis']\n",
    "\n",
    "m"
   ]
  },
  {
   "cell_type": "code",
   "execution_count": 22,
   "metadata": {
    "ExecuteTime": {
     "end_time": "2021-03-12T20:10:02.503022Z",
     "start_time": "2021-03-12T20:09:50.145133Z"
    },
    "hidden": true
   },
   "outputs": [
    {
     "name": "stderr",
     "output_type": "stream",
     "text": [
      "C:\\Users\\Thiago\\anaconda3\\lib\\site-packages\\seaborn\\distributions.py:2551: FutureWarning: `distplot` is a deprecated function and will be removed in a future version. Please adapt your code to use either `displot` (a figure-level function with similar flexibility) or `histplot` (an axes-level function for histograms).\n",
      "  warnings.warn(msg, FutureWarning)\n"
     ]
    },
    {
     "data": {
      "text/plain": [
       "<AxesSubplot:xlabel='competition_distance', ylabel='Density'>"
      ]
     },
     "execution_count": 22,
     "metadata": {},
     "output_type": "execute_result"
    },
    {
     "data": {
      "image/png": "[encoded data removed]",
      "text/plain": [
       "<Figure size 432x288 with 1 Axes>"
      ]
     },
     "metadata": {
      "needs_background": "light"
     },
     "output_type": "display_data"
    }
   ],
   "source": [
    "#Visualizing the distribuition of a given column\n",
    "\n",
    "sns.distplot(df1['competition_distance'])"
   ]
  },
  {
   "cell_type": "markdown",
   "metadata": {
    "hidden": true
   },
   "source": [
    "## 1.7.2 Categorical Atrtributes"
   ]
  },
  {
   "cell_type": "code",
   "execution_count": 23,
   "metadata": {
    "ExecuteTime": {
     "end_time": "2021-03-12T20:10:02.723390Z",
     "start_time": "2021-03-12T20:10:02.508011Z"
    },
    "hidden": true
   },
   "outputs": [
    {
     "data": {
      "text/plain": [
       "state_holiday      4\n",
       "store_type         4\n",
       "assortment         3\n",
       "promo_interval     4\n",
       "month_map         12\n",
       "dtype: int64"
      ]
     },
     "execution_count": 23,
     "metadata": {},
     "output_type": "execute_result"
    }
   ],
   "source": [
    "cat_attributes.apply(lambda x: x.unique().shape[0])"
   ]
  },
  {
   "cell_type": "code",
   "execution_count": 24,
   "metadata": {
    "ExecuteTime": {
     "end_time": "2021-03-12T20:10:03.321228Z",
     "start_time": "2021-03-12T20:10:02.727205Z"
    },
    "hidden": true
   },
   "outputs": [
    {
     "data": {
      "text/plain": [
       "<AxesSubplot:xlabel='assortment', ylabel='sales'>"
      ]
     },
     "execution_count": 24,
     "metadata": {},
     "output_type": "execute_result"
    },
    {
     "data": {
      "image/png": "[encoded data removed]",
      "text/plain": [
       "<Figure size 432x288 with 3 Axes>"
      ]
     },
     "metadata": {
      "needs_background": "light"
     },
     "output_type": "display_data"
    }
   ],
   "source": [
    "aux1 = df1[(df1['state_holiday'] != '0') & (df1['sales'] > 0)]\n",
    "\n",
    "plt.subplot(1, 5, 1)\n",
    "sns.boxplot(x= 'state_holiday', y= 'sales', data=aux1)\n",
    "\n",
    "plt.subplot(1, 5, 3)\n",
    "sns.boxplot(x= 'store_type', y= 'sales', data=aux1)\n",
    "\n",
    "plt.subplot(1, 5, 5)\n",
    "sns.boxplot(x= 'assortment', y= 'sales', data=aux1)"
   ]
  },
  {
   "cell_type": "markdown",
   "metadata": {},
   "source": [
    "# 2.0 (PASSO 02) FEATURE ENGINEERING"
   ]
  },
  {
   "cell_type": "code",
   "execution_count": 25,
   "metadata": {
    "ExecuteTime": {
     "end_time": "2021-03-12T20:10:03.384771Z",
     "start_time": "2021-03-12T20:10:03.323232Z"
    }
   },
   "outputs": [],
   "source": [
    "df2 = df1.copy()"
   ]
  },
  {
   "cell_type": "markdown",
   "metadata": {
    "heading_collapsed": true
   },
   "source": [
    "## 2.1 Criaçao das Hipoteses"
   ]
  },
  {
   "cell_type": "code",
   "execution_count": 26,
   "metadata": {
    "ExecuteTime": {
     "end_time": "2021-03-12T20:10:03.682437Z",
     "start_time": "2021-03-12T20:10:03.386771Z"
    },
    "hidden": true
   },
   "outputs": [
    {
     "data": {
      "image/png": "[encoded data removed]",
      "text/plain": [
       "<IPython.core.display.Image object>"
      ]
     },
     "execution_count": 26,
     "metadata": {},
     "output_type": "execute_result"
    }
   ],
   "source": [
    "#MAPA MENTAL DE HIPÓTESES\n",
    "\n",
    "Image('img/mind_map_hypothesis.png')"
   ]
  },
  {
   "cell_type": "markdown",
   "metadata": {
    "hidden": true
   },
   "source": [
    "### 2.1.1 Hipotese Loja"
   ]
  },
  {
   "cell_type": "markdown",
   "metadata": {
    "hidden": true
   },
   "source": [
    "**1.** Lojas com maior quadro de funcionarios deveriam vender mais.\n",
    "\n",
    "**2.** Lojas com maior estoque deveriam vender mais.\n",
    "\n",
    "**3.** Lojas maiores deveriam vender mais.\n",
    "\n",
    "**4.** Lojas com maior sortimento deveriam vender mais.\n",
    "\n",
    "**5.** Lojas com competidores mais próximos deveriam vender menos.\n",
    "\n",
    "**6.** Lojas com competidores a mais tempo deveriam vender mais.\n"
   ]
  },
  {
   "cell_type": "markdown",
   "metadata": {
    "hidden": true
   },
   "source": [
    "### 2.1.2 Hipotese Produto"
   ]
  },
  {
   "cell_type": "markdown",
   "metadata": {
    "hidden": true
   },
   "source": [
    "**1.** Lojas que investem mais em Marketing deveriam vender mais.\n",
    "\n",
    "**2.** Lojas que expoem mais o produto nas vitrines deveriam vender mais.\n",
    "\n",
    "**3.** Lojas que tem preços menores nos produtos deveriam vender mais.\n",
    "\n",
    "**4.** Lojas que tem preços menores por mais tempo deveriam vender mais.\n",
    "\n",
    "**5.** Lojas com promoções mais agressivas (descontos maiores) deveriam vender mais.\n",
    "\n",
    "**6.** Lojas com promoções ativas por mais tempo deveriam vender mais.\n",
    "\n",
    "**7.** Lojas com mais promoções consecutivas deveriam vender mais.\n",
    "\n",
    "**8.** Lojas com mais dias de promoção deveriam vender mais."
   ]
  },
  {
   "cell_type": "markdown",
   "metadata": {
    "hidden": true
   },
   "source": [
    "### 2.1.3 Hipotese Temporal (Sazonalidade)"
   ]
  },
  {
   "cell_type": "markdown",
   "metadata": {
    "hidden": true
   },
   "source": [
    "**1.** Lojas abertas durante o feriado de natal deveriam vender mais.\n",
    "\n",
    "**2.** Lojas deveriam vender mais ao longo dos anos.\n",
    "\n",
    "**3.** Lojas deveriam vender mais no segundo semestre do ano.\n",
    "\n",
    "**4.** Lojas deveriam vender mais depois do dia 10 de cada mês.\n",
    "\n",
    "**5.** Lojas deveriam vender menos aos finais de semana.\n",
    "\n",
    "**6.** Lojas deveriam vender menos durante os feriado escolares."
   ]
  },
  {
   "cell_type": "markdown",
   "metadata": {
    "heading_collapsed": true
   },
   "source": [
    "## 2.2 Lista Final de Hipoteses"
   ]
  },
  {
   "cell_type": "markdown",
   "metadata": {
    "hidden": true
   },
   "source": [
    "**1.** Lojas com maior sortimento deveriam vender mais.\n",
    "\n",
    "**2.** Lojas com competidores mais próximos deveriam vender menos.\n",
    "\n",
    "**3.** Lojas com competidores a mais tempo deveriam vender mais.\n",
    "\n",
    "**4.** Lojas com promoções ativas por mais tempo deveriam vender mais.\n",
    "\n",
    "**5.** Lojas com mais promoções consecutivas deveriam vender mais.\n",
    "\n",
    "**6.** Lojas com mais dias de promoção deveriam vender mais.\n",
    "\n",
    "**7.** Lojas abertas durante o feriado de natal deveriam vender mais.\n",
    "\n",
    "**8.** Lojas deveriam vender mais ao longo dos anos.\n",
    "\n",
    "**9.** Lojas deveriam vender mais no segundo semestre do ano.\n",
    "\n",
    "**10.** Lojas deveriam vender mais depois do dia 10 de cada mês.\n",
    "\n",
    "**11.** Lojas deveriam vender menos aos finais de semana.\n",
    "\n",
    "**12.** Lojas deveriam vender menos durante os feriado escolares.\n"
   ]
  },
  {
   "cell_type": "markdown",
   "metadata": {},
   "source": [
    "## 2.3 Feature Engineering"
   ]
  },
  {
   "cell_type": "markdown",
   "metadata": {},
   "source": [
    "Variáveis a serem derivadas da variável original:"
   ]
  },
  {
   "cell_type": "code",
   "execution_count": 27,
   "metadata": {
    "ExecuteTime": {
     "end_time": "2021-03-12T20:10:10.492342Z",
     "start_time": "2021-03-12T20:10:03.684400Z"
    }
   },
   "outputs": [
    {
     "name": "stderr",
     "output_type": "stream",
     "text": [
      "<ipython-input-27-9a747046ffaf>:11: FutureWarning: Series.dt.weekofyear and Series.dt.week have been deprecated.  Please use Series.dt.isocalendar().week instead.\n",
      "  df2['week_of_year'] = df2['date'].dt.weekofyear\n"
     ]
    }
   ],
   "source": [
    "# year\n",
    "df2['year'] = df2['date'].dt.year\n",
    "\n",
    "# month\n",
    "df2['month'] = df2['date'].dt.month\n",
    "\n",
    "# day\n",
    "df2['day'] = df2['date'].dt.day\n",
    "\n",
    "# week of year\n",
    "df2['week_of_year'] = df2['date'].dt.weekofyear\n",
    "\n",
    "# year week\n",
    "df2['year_week'] = df2['date'].dt.strftime('%Y-%W')\n",
    "\n",
    "# competition_since \n",
    "#(juntar as infos das colunas 'competition_open_since_year' e 'competition_open_since_month' numa única coluna)\n",
    "df2['competition_since'] = df2.apply (lambda x: datetime.datetime(year=x['competition_open_since_year'], month=x['competition_open_since_month'], day=1),axis=1)\n",
    "df2['competition_time_month'] = ((df2['date'] - df2['competition_since']) / 30).apply(lambda x: x.days).astype(int)\n",
    "\n",
    "#promo_since\n",
    "df2['promo_since'] = df2['promo2_since_year'].astype(str) + '-' + df2['promo2_since_week'].astype(str)\n",
    "df2['promo_since'] = df2['promo_since'].apply(lambda x: datetime.datetime.strptime(x + '-1', '%Y-%W-%w') - datetime.timedelta(days=7))\n",
    "df2['promo_time_week'] = ((df2['date'] - df2['promo_since']) / 7).apply(lambda x: x.days).astype(int)\n",
    "                                     \n",
    "#assortment (sobrescrevendo a mesma variável aplicando as classificaçãoes 'basic', 'extra' e 'extended')\n",
    "df2['assortment'] = df2['assortment'].apply(lambda x: 'basic' if x =='a' else 'extra' if x =='b' else 'extended')\n",
    "\n",
    "#state_holiday \n",
    "df2['state_holiday'] = df2['state_holiday'].apply(lambda x: 'public_holiday' if x =='a' else 'easter_holiday' if x =='b' else 'christimas' if x=='c' else 'regular_day')"
   ]
  },
  {
   "cell_type": "code",
   "execution_count": 34,
   "metadata": {
    "ExecuteTime": {
     "end_time": "2021-03-12T20:37:43.274925Z",
     "start_time": "2021-03-12T20:37:43.252982Z"
    }
   },
   "outputs": [
    {
     "data": {
      "text/html": [
       "<div>\n",
       "<style scoped>\n",
       "    .dataframe tbody tr th:only-of-type {\n",
       "        vertical-align: middle;\n",
       "    }\n",
       "\n",
       "    .dataframe tbody tr th {\n",
       "        vertical-align: top;\n",
       "    }\n",
       "\n",
       "    .dataframe thead th {\n",
       "        text-align: right;\n",
       "    }\n",
       "</style>\n",
       "<table border=\"1\" class=\"dataframe\">\n",
       "  <thead>\n",
       "    <tr style=\"text-align: right;\">\n",
       "      <th></th>\n",
       "      <th>0</th>\n",
       "      <th>1</th>\n",
       "      <th>2</th>\n",
       "      <th>3</th>\n",
       "      <th>4</th>\n",
       "    </tr>\n",
       "  </thead>\n",
       "  <tbody>\n",
       "    <tr>\n",
       "      <th>store</th>\n",
       "      <td>1</td>\n",
       "      <td>2</td>\n",
       "      <td>3</td>\n",
       "      <td>4</td>\n",
       "      <td>5</td>\n",
       "    </tr>\n",
       "    <tr>\n",
       "      <th>day_of_week</th>\n",
       "      <td>5</td>\n",
       "      <td>5</td>\n",
       "      <td>5</td>\n",
       "      <td>5</td>\n",
       "      <td>5</td>\n",
       "    </tr>\n",
       "    <tr>\n",
       "      <th>date</th>\n",
       "      <td>2015-07-31 00:00:00</td>\n",
       "      <td>2015-07-31 00:00:00</td>\n",
       "      <td>2015-07-31 00:00:00</td>\n",
       "      <td>2015-07-31 00:00:00</td>\n",
       "      <td>2015-07-31 00:00:00</td>\n",
       "    </tr>\n",
       "    <tr>\n",
       "      <th>sales</th>\n",
       "      <td>5263</td>\n",
       "      <td>6064</td>\n",
       "      <td>8314</td>\n",
       "      <td>13995</td>\n",
       "      <td>4822</td>\n",
       "    </tr>\n",
       "    <tr>\n",
       "      <th>customers</th>\n",
       "      <td>555</td>\n",
       "      <td>625</td>\n",
       "      <td>821</td>\n",
       "      <td>1498</td>\n",
       "      <td>559</td>\n",
       "    </tr>\n",
       "    <tr>\n",
       "      <th>open</th>\n",
       "      <td>1</td>\n",
       "      <td>1</td>\n",
       "      <td>1</td>\n",
       "      <td>1</td>\n",
       "      <td>1</td>\n",
       "    </tr>\n",
       "    <tr>\n",
       "      <th>promo</th>\n",
       "      <td>1</td>\n",
       "      <td>1</td>\n",
       "      <td>1</td>\n",
       "      <td>1</td>\n",
       "      <td>1</td>\n",
       "    </tr>\n",
       "    <tr>\n",
       "      <th>state_holiday</th>\n",
       "      <td>regular_day</td>\n",
       "      <td>regular_day</td>\n",
       "      <td>regular_day</td>\n",
       "      <td>regular_day</td>\n",
       "      <td>regular_day</td>\n",
       "    </tr>\n",
       "    <tr>\n",
       "      <th>school_holiday</th>\n",
       "      <td>1</td>\n",
       "      <td>1</td>\n",
       "      <td>1</td>\n",
       "      <td>1</td>\n",
       "      <td>1</td>\n",
       "    </tr>\n",
       "    <tr>\n",
       "      <th>store_type</th>\n",
       "      <td>c</td>\n",
       "      <td>a</td>\n",
       "      <td>a</td>\n",
       "      <td>c</td>\n",
       "      <td>a</td>\n",
       "    </tr>\n",
       "    <tr>\n",
       "      <th>assortment</th>\n",
       "      <td>basic</td>\n",
       "      <td>basic</td>\n",
       "      <td>basic</td>\n",
       "      <td>extended</td>\n",
       "      <td>basic</td>\n",
       "    </tr>\n",
       "    <tr>\n",
       "      <th>competition_distance</th>\n",
       "      <td>1270</td>\n",
       "      <td>570</td>\n",
       "      <td>14130</td>\n",
       "      <td>620</td>\n",
       "      <td>29910</td>\n",
       "    </tr>\n",
       "    <tr>\n",
       "      <th>competition_open_since_month</th>\n",
       "      <td>9</td>\n",
       "      <td>11</td>\n",
       "      <td>12</td>\n",
       "      <td>9</td>\n",
       "      <td>4</td>\n",
       "    </tr>\n",
       "    <tr>\n",
       "      <th>competition_open_since_year</th>\n",
       "      <td>2008</td>\n",
       "      <td>2007</td>\n",
       "      <td>2006</td>\n",
       "      <td>2009</td>\n",
       "      <td>2015</td>\n",
       "    </tr>\n",
       "    <tr>\n",
       "      <th>promo2</th>\n",
       "      <td>0</td>\n",
       "      <td>1</td>\n",
       "      <td>1</td>\n",
       "      <td>0</td>\n",
       "      <td>0</td>\n",
       "    </tr>\n",
       "    <tr>\n",
       "      <th>promo2_since_week</th>\n",
       "      <td>31</td>\n",
       "      <td>13</td>\n",
       "      <td>14</td>\n",
       "      <td>31</td>\n",
       "      <td>31</td>\n",
       "    </tr>\n",
       "    <tr>\n",
       "      <th>promo2_since_year</th>\n",
       "      <td>2015</td>\n",
       "      <td>2010</td>\n",
       "      <td>2011</td>\n",
       "      <td>2015</td>\n",
       "      <td>2015</td>\n",
       "    </tr>\n",
       "    <tr>\n",
       "      <th>promo_interval</th>\n",
       "      <td>0</td>\n",
       "      <td>Jan,Apr,Jul,Oct</td>\n",
       "      <td>Jan,Apr,Jul,Oct</td>\n",
       "      <td>0</td>\n",
       "      <td>0</td>\n",
       "    </tr>\n",
       "    <tr>\n",
       "      <th>month_map</th>\n",
       "      <td>Jul</td>\n",
       "      <td>Jul</td>\n",
       "      <td>Jul</td>\n",
       "      <td>Jul</td>\n",
       "      <td>Jul</td>\n",
       "    </tr>\n",
       "    <tr>\n",
       "      <th>is_promo</th>\n",
       "      <td>0</td>\n",
       "      <td>1</td>\n",
       "      <td>1</td>\n",
       "      <td>0</td>\n",
       "      <td>0</td>\n",
       "    </tr>\n",
       "    <tr>\n",
       "      <th>year</th>\n",
       "      <td>2015</td>\n",
       "      <td>2015</td>\n",
       "      <td>2015</td>\n",
       "      <td>2015</td>\n",
       "      <td>2015</td>\n",
       "    </tr>\n",
       "    <tr>\n",
       "      <th>month</th>\n",
       "      <td>7</td>\n",
       "      <td>7</td>\n",
       "      <td>7</td>\n",
       "      <td>7</td>\n",
       "      <td>7</td>\n",
       "    </tr>\n",
       "    <tr>\n",
       "      <th>day</th>\n",
       "      <td>31</td>\n",
       "      <td>31</td>\n",
       "      <td>31</td>\n",
       "      <td>31</td>\n",
       "      <td>31</td>\n",
       "    </tr>\n",
       "    <tr>\n",
       "      <th>week_of_year</th>\n",
       "      <td>31</td>\n",
       "      <td>31</td>\n",
       "      <td>31</td>\n",
       "      <td>31</td>\n",
       "      <td>31</td>\n",
       "    </tr>\n",
       "    <tr>\n",
       "      <th>year_week</th>\n",
       "      <td>2015-30</td>\n",
       "      <td>2015-30</td>\n",
       "      <td>2015-30</td>\n",
       "      <td>2015-30</td>\n",
       "      <td>2015-30</td>\n",
       "    </tr>\n",
       "    <tr>\n",
       "      <th>competition_since</th>\n",
       "      <td>2008-09-01 00:00:00</td>\n",
       "      <td>2007-11-01 00:00:00</td>\n",
       "      <td>2006-12-01 00:00:00</td>\n",
       "      <td>2009-09-01 00:00:00</td>\n",
       "      <td>2015-04-01 00:00:00</td>\n",
       "    </tr>\n",
       "    <tr>\n",
       "      <th>competition_time_month</th>\n",
       "      <td>84</td>\n",
       "      <td>94</td>\n",
       "      <td>105</td>\n",
       "      <td>71</td>\n",
       "      <td>4</td>\n",
       "    </tr>\n",
       "    <tr>\n",
       "      <th>promo_since</th>\n",
       "      <td>2015-07-27 00:00:00</td>\n",
       "      <td>2010-03-22 00:00:00</td>\n",
       "      <td>2011-03-28 00:00:00</td>\n",
       "      <td>2015-07-27 00:00:00</td>\n",
       "      <td>2015-07-27 00:00:00</td>\n",
       "    </tr>\n",
       "    <tr>\n",
       "      <th>promo_time_week</th>\n",
       "      <td>0</td>\n",
       "      <td>279</td>\n",
       "      <td>226</td>\n",
       "      <td>0</td>\n",
       "      <td>0</td>\n",
       "    </tr>\n",
       "  </tbody>\n",
       "</table>\n",
       "</div>"
      ],
      "text/plain": [
       "                                                0                    1  \\\n",
       "store                                           1                    2   \n",
       "day_of_week                                     5                    5   \n",
       "date                          2015-07-31 00:00:00  2015-07-31 00:00:00   \n",
       "sales                                        5263                 6064   \n",
       "customers                                     555                  625   \n",
       "open                                            1                    1   \n",
       "promo                                           1                    1   \n",
       "state_holiday                         regular_day          regular_day   \n",
       "school_holiday                                  1                    1   \n",
       "store_type                                      c                    a   \n",
       "assortment                                  basic                basic   \n",
       "competition_distance                         1270                  570   \n",
       "competition_open_since_month                    9                   11   \n",
       "competition_open_since_year                  2008                 2007   \n",
       "promo2                                          0                    1   \n",
       "promo2_since_week                              31                   13   \n",
       "promo2_since_year                            2015                 2010   \n",
       "promo_interval                                  0      Jan,Apr,Jul,Oct   \n",
       "month_map                                     Jul                  Jul   \n",
       "is_promo                                        0                    1   \n",
       "year                                         2015                 2015   \n",
       "month                                           7                    7   \n",
       "day                                            31                   31   \n",
       "week_of_year                                   31                   31   \n",
       "year_week                                 2015-30              2015-30   \n",
       "competition_since             2008-09-01 00:00:00  2007-11-01 00:00:00   \n",
       "competition_time_month                         84                   94   \n",
       "promo_since                   2015-07-27 00:00:00  2010-03-22 00:00:00   \n",
       "promo_time_week                                 0                  279   \n",
       "\n",
       "                                                2                    3  \\\n",
       "store                                           3                    4   \n",
       "day_of_week                                     5                    5   \n",
       "date                          2015-07-31 00:00:00  2015-07-31 00:00:00   \n",
       "sales                                        8314                13995   \n",
       "customers                                     821                 1498   \n",
       "open                                            1                    1   \n",
       "promo                                           1                    1   \n",
       "state_holiday                         regular_day          regular_day   \n",
       "school_holiday                                  1                    1   \n",
       "store_type                                      a                    c   \n",
       "assortment                                  basic             extended   \n",
       "competition_distance                        14130                  620   \n",
       "competition_open_since_month                   12                    9   \n",
       "competition_open_since_year                  2006                 2009   \n",
       "promo2                                          1                    0   \n",
       "promo2_since_week                              14                   31   \n",
       "promo2_since_year                            2011                 2015   \n",
       "promo_interval                    Jan,Apr,Jul,Oct                    0   \n",
       "month_map                                     Jul                  Jul   \n",
       "is_promo                                        1                    0   \n",
       "year                                         2015                 2015   \n",
       "month                                           7                    7   \n",
       "day                                            31                   31   \n",
       "week_of_year                                   31                   31   \n",
       "year_week                                 2015-30              2015-30   \n",
       "competition_since             2006-12-01 00:00:00  2009-09-01 00:00:00   \n",
       "competition_time_month                        105                   71   \n",
       "promo_since                   2011-03-28 00:00:00  2015-07-27 00:00:00   \n",
       "promo_time_week                               226                    0   \n",
       "\n",
       "                                                4  \n",
       "store                                           5  \n",
       "day_of_week                                     5  \n",
       "date                          2015-07-31 00:00:00  \n",
       "sales                                        4822  \n",
       "customers                                     559  \n",
       "open                                            1  \n",
       "promo                                           1  \n",
       "state_holiday                         regular_day  \n",
       "school_holiday                                  1  \n",
       "store_type                                      a  \n",
       "assortment                                  basic  \n",
       "competition_distance                        29910  \n",
       "competition_open_since_month                    4  \n",
       "competition_open_since_year                  2015  \n",
       "promo2                                          0  \n",
       "promo2_since_week                              31  \n",
       "promo2_since_year                            2015  \n",
       "promo_interval                                  0  \n",
       "month_map                                     Jul  \n",
       "is_promo                                        0  \n",
       "year                                         2015  \n",
       "month                                           7  \n",
       "day                                            31  \n",
       "week_of_year                                   31  \n",
       "year_week                                 2015-30  \n",
       "competition_since             2015-04-01 00:00:00  \n",
       "competition_time_month                          4  \n",
       "promo_since                   2015-07-27 00:00:00  \n",
       "promo_time_week                                 0  "
      ]
     },
     "execution_count": 34,
     "metadata": {},
     "output_type": "execute_result"
    }
   ],
   "source": [
    "df2.head().T"
   ]
  }
 ],
 "metadata": {
  "kernelspec": {
   "display_name": "Python 3",
   "language": "python",
   "name": "python3"
  },
  "language_info": {
   "codemirror_mode": {
    "name": "ipython",
    "version": 3
   },
   "file_extension": ".py",
   "mimetype": "text/x-python",
   "name": "python",
   "nbconvert_exporter": "python",
   "pygments_lexer": "ipython3",
   "version": "3.8.5"
  },
  "varInspector": {
   "cols": {
    "lenName": 16,
    "lenType": 16,
    "lenVar": 40
   },
   "kernels_config": {
    "python": {
     "delete_cmd_postfix": "",
     "delete_cmd_prefix": "del ",
     "library": "var_list.py",
     "varRefreshCmd": "print(var_dic_list())"
    },
    "r": {
     "delete_cmd_postfix": ") ",
     "delete_cmd_prefix": "rm(",
     "library": "var_list.r",
     "varRefreshCmd": "cat(var_dic_list()) "
    }
   },
   "types_to_exclude": [
    "module",
    "function",
    "builtin_function_or_method",
    "instance",
    "_Feature"
   ],
   "window_display": false
  }
 },
 "nbformat": 4,
 "nbformat_minor": 4
}
